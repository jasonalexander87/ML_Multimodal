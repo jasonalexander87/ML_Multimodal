{
  "nbformat": 4,
  "nbformat_minor": 0,
  "metadata": {
    "colab": {
      "name": "DL_Final_Demo_conversion.ipynb",
      "provenance": []
    },
    "kernelspec": {
      "name": "python3",
      "display_name": "Python 3"
    },
    "language_info": {
      "name": "python"
    }
  },
  "cells": [
    {
      "cell_type": "code",
      "execution_count": 1,
      "metadata": {
        "colab": {
          "base_uri": "https://localhost:8080/"
        },
        "id": "F3Bug8CwTiO0",
        "outputId": "d40a7f1c-cf4b-4755-996f-7c1f969c6f07"
      },
      "outputs": [
        {
          "output_type": "stream",
          "name": "stdout",
          "text": [
            "Mounted at /content/drive\n"
          ]
        }
      ],
      "source": [
        "#from google.colab import drive\n",
        "#drive.mount('/content/drive')"
      ]
    },
    {
      "cell_type": "code",
      "source": [
        "import os\n",
        "#os.chdir(\"/content/drive/MyDrive/DL_Project/dataset2\")\n",
        "#!ls"
      ],
      "metadata": {
        "colab": {
          "base_uri": "https://localhost:8080/"
        },
        "id": "VqCYpYWYT4X_",
        "outputId": "817d7577-d9f9-428e-c2a7-12c0f244421e"
      },
      "execution_count": 4,
      "outputs": [
        {
          "output_type": "stream",
          "name": "stdout",
          "text": [
            "model_0.model  model_5.model  train_history0.png  train_history5.png\n",
            "model_1.model  model.tflite   train_history1.png  validation\n",
            "model_2.model  run1\t      train_history2.png\n",
            "model_3.model  test\t      train_history3.png\n",
            "model_4.model  train\t      train_history4.png\n"
          ]
        }
      ]
    },
    {
      "cell_type": "code",
      "source": [
        "import gdown\n",
        "\n",
        "model = 'https://drive.google.com/uc?id=1-2GZpHKQha01XN-WpUiH7eQMKse7Bao4&export=download'\n",
        "output='./model_0.model'\n",
        "gdown.download(model, output, quiet=False)"
      ],
      "metadata": {
        "id": "qw3HMGwNDy47"
      },
      "execution_count": null,
      "outputs": []
    },
    {
      "cell_type": "code",
      "source": [
        "import pickle\n",
        "import tensorflow\n",
        "\n",
        "file = 'model_0.model'\n",
        "infile = open(file,'rb')\n",
        "model = pickle.load(infile)\n",
        "infile.close()\n"
      ],
      "metadata": {
        "id": "02b4fk4_UDou"
      },
      "execution_count": null,
      "outputs": []
    },
    {
      "cell_type": "code",
      "source": [
        "converter = tensorflow.lite.TFLiteConverter.from_keras_model(model=model)\n",
        "converter.optimizations = [tensorflow.lite.Optimize.DEFAULT]\n",
        "\n",
        "tflite_quant_model = converter.convert()"
      ],
      "metadata": {
        "colab": {
          "base_uri": "https://localhost:8080/"
        },
        "id": "DQ1yVun_VYGL",
        "outputId": "bc5a9852-8bc2-45d9-beaa-01c79f0a3bd1"
      },
      "execution_count": null,
      "outputs": [
        {
          "output_type": "stream",
          "name": "stdout",
          "text": [
            "INFO:tensorflow:Assets written to: /tmp/tmpjcvqs75j/assets\n"
          ]
        },
        {
          "output_type": "stream",
          "name": "stderr",
          "text": [
            "WARNING:absl:Buffer deduplication procedure will be skipped when flatbuffer library is not properly loaded\n"
          ]
        }
      ]
    },
    {
      "cell_type": "code",
      "source": [
        "#SAVE MODEL\n",
        "open(\"model.tflite\",\"wb\").write(tflite_quant_model)"
      ],
      "metadata": {
        "colab": {
          "base_uri": "https://localhost:8080/"
        },
        "id": "57QlprKcWSqb",
        "outputId": "8be16efb-630c-4963-c36d-307a9c2e5a41"
      },
      "execution_count": null,
      "outputs": [
        {
          "output_type": "execute_result",
          "data": {
            "text/plain": [
              "54013584"
            ]
          },
          "metadata": {},
          "execution_count": 8
        }
      ]
    }
  ]
}